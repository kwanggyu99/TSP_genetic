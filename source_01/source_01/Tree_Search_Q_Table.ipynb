{
  "nbformat": 4,
  "nbformat_minor": 0,
  "metadata": {
    "colab": {
      "provenance": []
    },
    "kernelspec": {
      "name": "python3",
      "display_name": "Python 3"
    },
    "language_info": {
      "name": "python"
    }
  },
  "cells": [
    {
      "cell_type": "code",
      "execution_count": null,
      "metadata": {
        "id": "K8yM5Dt-Ph-b"
      },
      "outputs": [],
      "source": [
        "import math\n",
        "def euclidean_distance(city1, city2):\n",
        "    x1= float(city1[0])\n",
        "    y1 = float(city1[1])\n",
        "    x2 = float(city2[0])\n",
        "    y2 = float(city2[1])\n",
        "    return math.sqrt((x2 - x1)**2 + (y2 - y1)**2)"
      ]
    },
    {
      "cell_type": "code",
      "source": [
        "import csv\n",
        "from heapq import heappush\n",
        "cities = []\n",
        "with open(r'/content/2024_AI_TSP.csv', mode='r', newline='') as tsp:\n",
        "  reader = csv.reader(tsp)\n",
        "  for row in reader:\n",
        "    cities.append(row)\n",
        "\n",
        "\n",
        "import networkx as nx\n",
        "n = len(cities)\n",
        "G = nx.complete_graph(n)\n",
        "for i in range(n):\n",
        "  for j in range(n):\n",
        "    if i != j:\n",
        "      city1, city2 = cities[i], cities[j]\n",
        "      distance = euclidean_distance(city1, city2)\n",
        "      G.add_edge(i,j,weight = distance)\n",
        "\n",
        "n = len(cities)\n",
        "sortedNodeList = [ [] for i in range(n)]\n",
        "for node in G.nodes:\n",
        "  for neighbor in G.neighbors(node):\n",
        "    sortedNodeList[node].append((G.edges[node, neighbor]['weight'], neighbor))\n",
        "\n",
        "for i, node in enumerate(sortedNodeList):\n",
        "    sortedNodeList[i] = sorted(node)"
      ],
      "metadata": {
        "id": "pz64tukiPn7z"
      },
      "execution_count": null,
      "outputs": []
    },
    {
      "cell_type": "code",
      "source": [
        "def calculate_distance(graph, path):# 경로들이 도시개수만큼 나왔을 때 전체 거리 구하는 함수\n",
        "    total_distance = 0.0\n",
        "    for i in range(len(path) - 1):\n",
        "        total_distance += graph.edges[path[i], path[i + 1]]['weight']\n",
        "    total_distance += graph.edges[path[-1], path[0]]['weight']\n",
        "    return total_distance"
      ],
      "metadata": {
        "id": "NW5PkgLLjNxs"
      },
      "execution_count": null,
      "outputs": []
    },
    {
      "cell_type": "code",
      "source": [
        "def choose_reward( s, a):\n",
        "  #reward를 반환하는 함수\n",
        "    tot =0\n",
        "    for j in range(num_states):\n",
        "      if s!=j:\n",
        "          tot+= G[s][j]['weight']\n",
        "    tot = tot/(num_states-1)\n",
        "    if G[s][a]['weight'] >tot:\n",
        "        return -math.exp(G[s][a]['weight'])\n",
        "    else:\n",
        "        return -math.log(G[s][a]['weight'])"
      ],
      "metadata": {
        "id": "3Jf-KJp_PoGC"
      },
      "execution_count": null,
      "outputs": []
    },
    {
      "cell_type": "code",
      "source": [
        "from heapq import heappush, heappop\n",
        "from copy import deepcopy\n",
        "MAX_FRINGE_LIMIT = 8\n",
        "\n",
        "#경로 구하기위한 astar와 heuristic\n",
        "def heuristic_fuc(graph, sortedNodeList, city, visited):\n",
        "  cur_city = city\n",
        "  heu_cost = 0.0\n",
        "  num = len(graph)\n",
        "\n",
        "  while(1):\n",
        "    #모든 노드 순회 확인\n",
        "    if(len(visited)==num):\n",
        "      return heu_cost + graph.edges[cur_city, 0]['weight']\n",
        "\n",
        "    for weight, op_node in sortedNodeList[cur_city]:\n",
        "      if op_node not in visited:\n",
        "        heu_cost += weight\n",
        "        visited.append(op_node)\n",
        "        cur_city = op_node\n",
        "        break\n",
        "\n",
        "def a_star_search(g,sortedNodeList, start):\n",
        "  #initialize\n",
        "  global mx_cnt, path\n",
        "  n = len(g)\n",
        "  cur_visit_city = start\n",
        "  visited = [start]\n",
        "  pq = []\n",
        "  #total_cost, total_cost - heu_cost, cur_city, visited_list\n",
        "  heu = heuristic_fuc(g,sortedNodeList,cur_visit_city,deepcopy(visited))\n",
        "  heappush(pq,(heu,0,cur_visit_city, deepcopy(visited)))\n",
        "  final_cost = 0\n",
        "\n",
        "  while(1):\n",
        "    total_cost,cur_cost, cur_visit_city, visited = heappop(pq)\n",
        "\n",
        "    #모든 노드 순회 했는지 확인\n",
        "    if len(visited) == n:\n",
        "        print(visited)\n",
        "        path = visited\n",
        "        final_cost = total_cost\n",
        "        break\n",
        "\n",
        "    cur_fringe_cnt = 0\n",
        "    for weight, op_node in sortedNodeList[cur_visit_city]:\n",
        "\n",
        "      if cur_fringe_cnt > MAX_FRINGE_LIMIT:\n",
        "        break\n",
        "      if op_node not in visited:\n",
        "        visited.append(op_node)\n",
        "        heu = heuristic_fuc(g,sortedNodeList, op_node, deepcopy(visited))\n",
        "        heappush(pq,(heu + cur_cost + weight, cur_cost + weight, op_node, deepcopy(visited) ))\n",
        "        cur_fringe_cnt+=1\n",
        "        visited.remove(op_node)\n",
        "\n",
        "\n",
        "  return final_cost\n",
        "\n"
      ],
      "metadata": {
        "id": "9w8V3IvDjU2m"
      },
      "execution_count": null,
      "outputs": []
    },
    {
      "cell_type": "code",
      "source": [
        "ans = a_star_search(G,sortedNodeList,0)"
      ],
      "metadata": {
        "id": "iCWiqhrXjU_q"
      },
      "execution_count": null,
      "outputs": []
    },
    {
      "cell_type": "markdown",
      "source": [
        "fringe 8일떄 path임"
      ],
      "metadata": {
        "id": "JPog_b8_jmhv"
      }
    },
    {
      "cell_type": "code",
      "source": [
        "#path = [0, 979, 373, 739, 21, 743, 776, 905, 865, 333, 970, 874, 962, 700, 814, 281, 157, 283, 401, 961, 399, 924, 731, 18, 976, 868, 985, 914, 363, 243, 772, 417, 684, 462, 492, 936, 439, 412, 851, 886, 805, 759, 501, 442, 930, 343, 713, 754, 177, 305, 402, 12, 72, 284, 465, 45, 974, 904, 244, 285, 310, 59, 112, 90, 336, 437, 414, 293, 698, 113, 91, 525, 602, 641, 560, 570, 556, 510, 514, 520, 648, 590, 506, 543, 575, 615, 673, 550, 569, 672, 631, 598, 555, 568, 620, 504, 591, 607, 536, 664, 503, 651, 566, 670, 509, 623, 632, 544, 655, 601, 531, 565, 645, 633, 577, 588, 527, 554, 538, 628, 562, 558, 535, 557, 518, 624, 537, 652, 578, 547, 619, 622, 541, 617, 604, 611, 637, 573, 666, 612, 563, 551, 549, 534, 630, 539, 515, 300, 356, 431, 485, 627, 320, 80, 331, 390, 136, 169, 455, 523, 532, 689, 639, 154, 493, 103, 348, 542, 371, 671, 545, 634, 519, 646, 644, 597, 528, 659, 610, 661, 662, 647, 660, 502, 546, 668, 614, 609, 508, 643, 596, 658, 533, 548, 579, 567, 559, 522, 638, 649, 640, 636, 626, 650, 996, 992, 530, 585, 521, 571, 993, 516, 594, 592, 889, 635, 653, 586, 663, 529, 782, 750, 888, 968, 717, 699, 802, 900, 866, 846, 901, 788, 949, 721, 795, 706, 794, 685, 948, 155, 793, 682, 786, 104, 214, 474, 464, 242, 910, 44, 950, 11, 781, 382, 709, 836, 129, 779, 897, 142, 933, 981, 386, 304, 680, 397, 229, 176, 189, 984, 787, 834, 953, 765, 714, 955, 416, 799, 287, 9, 295, 315, 880, 830, 837, 694, 187, 342, 279, 978, 824, 915, 806, 839, 983, 909, 777, 357, 432, 137, 785, 796, 71, 784, 208, 742, 42, 234, 973, 240, 912, 351, 212, 770, 899, 817, 741, 856, 687, 767, 965, 958, 736, 679, 764, 426, 971, 922, 944, 918, 16, 811, 704, 807, 923, 780, 832, 898, 934, 823, 730, 722, 725, 749, 938, 840, 831, 678, 789, 732, 676, 952, 864, 883, 857, 853, 728, 205, 409, 367, 920, 62, 308, 484, 355, 430, 57, 88, 299, 110, 79, 330, 324, 489, 3, 39, 26, 96, 435, 135, 168, 376, 903, 702, 929, 231, 216, 289, 454, 100, 125, 703, 420, 153, 841, 389, 319, 226, 197, 262, 370, 68, 690, 820, 833, 291, 894, 994, 842, 102, 347, 980, 345, 945, 467, 246, 705, 404, 766, 179, 199, 334, 812, 275, 829, 472, 907, 413, 126, 217, 292, 421, 63, 309, 410, 436, 97, 4, 58, 89, 490, 325, 111, 69, 180, 405, 335, 893, 552, 625, 656, 600, 512, 584, 669, 599, 580, 581, 582, 752, 852, 825, 692, 677, 859, 746, 362, 481, 452, 123, 49, 446, 160, 202, 249, 761, 810, 875, 707, 237, 757, 118, 941, 822, 878, 54, 729, 919, 870, 461, 395, 876, 326, 942, 411, 98, 783, 895, 701, 804, 916, 760, 877, 726, 198, 800, 737, 468, 773, 247, 200, 346, 792, 440, 858, 863, 377, 963, 40, 101, 828, 959, 872, 232, 290, 735, 768, 711, 368, 206, 850, 751, 926, 913, 960, 906, 747, 763, 843, 927, 733, 845, 708, 935, 902, 797, 791, 849, 681, 847, 943, 860, 966, 695, 260, 261, 388, 152, 236, 317, 120, 56, 498, 253, 298, 87, 451, 329, 341, 78, 257, 109, 195, 360, 479, 223, 323, 186, 314, 8, 488, 2, 278, 354, 429, 483, 769, 201, 159, 838, 444, 307, 47, 419, 248, 173, 723, 99, 947, 105, 475, 383, 158, 235, 344, 443, 835, 418, 867, 778, 46, 466, 683, 925, 178, 306, 403, 879, 972, 127, 790, 181, 855, 491, 827, 744, 969, 957, 977, 734, 132, 449, 116, 140, 339, 211, 809, 350, 75, 302, 457, 85, 192, 266, 164, 52, 755, 251, 380, 954, 106, 861, 239, 174, 720, 476, 384, 93, 696, 928, 182, 327, 133, 458, 303, 381, 165, 148, 693, 255, 203, 175, 50, 447, 433, 209, 19, 282, 43, 190, 22, 398, 496, 374, 221, 264, 228, 469, 233, 441, 378, 691, 207, 41, 28, 427, 908, 775, 17, 130, 143, 352, 241, 213, 463, 618, 605, 276, 473, 13, 73, 564, 613, 218, 505, 294, 616, 511, 642, 561, 595, 654, 657, 311, 576, 513, 593, 526, 553, 540, 603, 587, 606, 629, 589, 517, 583, 524, 621, 5, 667, 70, 665, 64, 574, 608, 572, 674, 415, 286, 337, 507, 114, 138, 358, 156, 400, 83, 396, 141, 267, 193, 76, 94, 385, 424, 107, 29, 23, 144, 20, 494, 14, 321, 219, 6, 65, 312, 392, 15, 171, 30, 184, 459, 149, 268, 166, 183, 425, 273, 33, 271, 272, 32, 270, 34, 36, 37, 35, 269, 24, 31, 393, 967, 718, 801, 756, 819, 710, 911, 753, 881, 60, 438, 245, 406, 422, 774, 887, 263, 227, 844, 891, 885, 27, 956, 896, 890, 871, 946, 220, 145, 82, 495, 818, 762, 738, 931, 712, 727, 816, 987, 982, 991, 873, 989, 803, 882, 254, 745, 162, 147, 365, 407, 423, 128, 10, 296, 188, 280, 477, 470, 170, 81, 391, 332, 486, 372, 990, 988, 986, 869, 1, 74, 349, 277, 338, 487, 359, 115, 434, 210, 131, 297, 497, 448, 204, 51, 167, 95, 108, 77, 256, 194, 84, 191, 428, 379, 222, 265, 375, 408, 328, 134, 38, 185, 25, 394, 460, 478, 322, 313, 7, 997, 798, 139, 353, 301, 456, 482, 715, 921, 124, 55, 86, 252, 450, 61, 117, 340, 53, 163, 366, 250, 119, 288, 238, 316, 161, 453, 215, 995, 854, 686, 92, 364, 230, 151, 387, 146, 67, 932, 369, 771, 940, 445, 48, 318, 122, 121, 480, 258, 224, 361, 196, 499, 259, 500, 225, 719, 808, 951, 688, 821, 740, 884, 939, 815, 975, 724, 716, 675, 848, 813, 758, 826, 274, 964, 748, 172, 892, 937, 697, 917, 150, 66, 862, 471]"
      ],
      "metadata": {
        "id": "4BudWisSjbJO"
      },
      "execution_count": null,
      "outputs": []
    },
    {
      "cell_type": "code",
      "source": [
        "import numpy as np\n",
        "\n",
        "# 상태 및 액션 수\n",
        "num_states = len(path)\n",
        "# 할인율\n",
        "discount_factor = 0.9\n",
        "\n",
        "# 초기 가치 함수 초기화\n",
        "V = np.zeros(num_states)\n",
        "\n",
        "for i in range(len(path)):\n",
        "    state = path[i]\n",
        "    total = 0\n",
        "    c = 0\n",
        "\n",
        "    # i부터 path의 끝까지 순회\n",
        "    for j in range(i, len(path) - 1):\n",
        "        total += G[path[j]][path[j+1]]['weight'] * (discount_factor ** c)\n",
        "        c += 1\n",
        "\n",
        "    # 마지막 노드에서 처음 노드로 가는 거리 추가\n",
        "    total += G[path[-1]][path[0]]['weight'] * (discount_factor ** c)\n",
        "\n",
        "    V[state] -= total\n",
        "\n",
        "# 결과 출력\n",
        "print(\"초기 가치 함수:\")\n",
        "for i in range(num_states):\n",
        "    print(\"V({}) = {}\".format(i, V[i]))"
      ],
      "metadata": {
        "id": "K8hYiox4jqZW"
      },
      "execution_count": null,
      "outputs": []
    },
    {
      "cell_type": "code",
      "source": [
        "import matplotlib.pyplot as plt\n",
        "import numpy as np\n",
        "iter_list = []\n",
        "discount_factor = 0.9\n",
        "#discount_factor = 1\n",
        "\n",
        "# Value Iteration 함수 수정\n",
        "def value_iteration(V, G, discount_factor, num_iterations, iter_list):\n",
        "    for iteration in range(1, num_iterations + 1):\n",
        "\n",
        "        for s in range(num_states):\n",
        "            max_value = float(\"-inf\")\n",
        "\n",
        "            for next_s in range(num_states):\n",
        "                if s == next_s:\n",
        "                  continue\n",
        "                value = -G[s][next_s]['weight'] + discount_factor * V[next_s]\n",
        "\n",
        "                max_value = max(max_value, value)  # 최적 가치 갱신\n",
        "            V[s] = max_value  # 새로운 가치 함수에 저장\n",
        "\n",
        "        iter_list.append(V.copy())  # 가치 함수의 변화 기록 (복사하여 저장)\n",
        "\n",
        "    return V, iter_list\n",
        "\n",
        "# Value Iteration 수행\n",
        "num_iterations = 50\n",
        "V = np.zeros(num_states)  # 초기화\n",
        "iter_list = []\n",
        "V, iter_list = value_iteration(V, G, discount_factor, num_iterations, iter_list)\n",
        "\n",
        "# 수렴 여부 확인\n",
        "#이전 반복(iter_list[i-1])과 현재 반복(iter_list[i])의 가치 함수의 차이의 절대값 특정 임계값( 0.000001) 보다 작으면 수렴했구나 판단\n",
        "converged = False\n",
        "for i in range(1, len(iter_list)):\n",
        "    if max(abs(iter_list[i] - iter_list[i-1])) < 1e-6:\n",
        "        print(f\"Converged at iteration {i}\")\n",
        "        converged = True\n",
        "        break\n",
        "\n",
        "if not converged:\n",
        "    print(\"Did not converge within the specified number of iterations.\")"
      ],
      "metadata": {
        "id": "g6A0of8qjqjd"
      },
      "execution_count": null,
      "outputs": []
    },
    {
      "cell_type": "code",
      "source": [
        "# Q-table 초기화\n",
        "import math\n",
        "Q = np.zeros((num_states, num_states))\n",
        "# 자기 자신 노드의 Q 값을 -무한대로 설정\n",
        "for i in range(num_states):\n",
        "    Q[i, i] = -np.inf\n",
        "\n",
        "# Q-table 구성 => 거리가 먼 도시에 대해서는 패널티 많이주기\n",
        "for s in range(num_states):\n",
        "\n",
        "    weights = [(G[s][j]['weight'], j) for j in range(num_states) if s != j]\n",
        "    weights.sort(reverse=True, key=lambda x: x[0])  # 가중치를 기준으로 내림차순 정렬\n",
        "    tot = [j for _, j in weights[:40]]\n",
        "\n",
        "    for a in range(num_states):\n",
        "\n",
        "        if s != a:  # 자기 자신으로의 이동은 고려하지 않음\n",
        "            if G[s][a]['weight'] in tot:\n",
        "                Q[s, a] = -math.exp(G[s][a]['weight']) + discount_factor * V[a]\n",
        "            else:\n",
        "                Q[s, a] = -math.log(G[s][a]['weight']) + discount_factor * V[a]\n"
      ],
      "metadata": {
        "id": "-VVi7wPQjqso"
      },
      "execution_count": null,
      "outputs": []
    },
    {
      "cell_type": "code",
      "source": [
        "\n",
        "paths = [0]  # 0번 노드부터 시작\n",
        "current_node = 0\n",
        "\n",
        "while len(paths) < num_states:\n",
        "    max_value = float(\"-inf\")\n",
        "    max_node = -1\n",
        "\n",
        "    for a in range(num_states):\n",
        "        if a != current_node and a not in paths:\n",
        "            if Q[current_node, a] > max_value:\n",
        "                max_value = Q[current_node, a]\n",
        "                max_node = a\n",
        "\n",
        "    if max_node == -1:\n",
        "        break  # 더 이상 선택할 노드가 없는 경우 루프 종료\n",
        "\n",
        "    paths.append(max_node)\n",
        "    current_node = max_node\n",
        "\n",
        "print(\"paths:\", paths)"
      ],
      "metadata": {
        "id": "aGsIgRzGljIw"
      },
      "execution_count": null,
      "outputs": []
    },
    {
      "cell_type": "code",
      "source": [
        "if len(paths) == len(set(paths)):\n",
        "    print(\"All elements in paths are unique.\")\n",
        "else:\n",
        "    print(\"There are duplicate elements in paths.\")"
      ],
      "metadata": {
        "id": "ZA6jszOiljVf"
      },
      "execution_count": null,
      "outputs": []
    },
    {
      "cell_type": "code",
      "source": [
        "calculate_distance(G, paths)"
      ],
      "metadata": {
        "id": "fGIeYPR3PjGa"
      },
      "execution_count": null,
      "outputs": []
    }
  ]
}